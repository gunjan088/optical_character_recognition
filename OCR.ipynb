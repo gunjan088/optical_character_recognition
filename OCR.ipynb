{
  "nbformat": 4,
  "nbformat_minor": 0,
  "metadata": {
    "colab": {
      "provenance": []
    },
    "kernelspec": {
      "name": "python3",
      "display_name": "Python 3"
    },
    "language_info": {
      "name": "python"
    }
  },
  "cells": [
    {
      "cell_type": "markdown",
      "source": [
        "# Pre-processing part for all Quesions"
      ],
      "metadata": {
        "id": "r32yGG5ViHJz"
      }
    },
    {
      "cell_type": "markdown",
      "source": [
        "Mounting the drive"
      ],
      "metadata": {
        "id": "zTLFKqbBiVgE"
      }
    },
    {
      "cell_type": "code",
      "source": [
        "from google.colab import drive\n",
        "drive.mount('/content/drive')"
      ],
      "metadata": {
        "colab": {
          "base_uri": "https://localhost:8080/"
        },
        "id": "fBqEbrM9h2eq",
        "outputId": "61f07c67-989d-4d86-a5ed-f7a1fa0829cf"
      },
      "execution_count": 1,
      "outputs": [
        {
          "output_type": "stream",
          "name": "stdout",
          "text": [
            "Drive already mounted at /content/drive; to attempt to forcibly remount, call drive.mount(\"/content/drive\", force_remount=True).\n"
          ]
        }
      ]
    },
    {
      "cell_type": "markdown",
      "source": [
        "Importing all the necessary libraries"
      ],
      "metadata": {
        "id": "apIfsUmlie8f"
      }
    },
    {
      "cell_type": "code",
      "source": [
        "#Importing the necessary libraries\n",
        "import cv2\n",
        "import os\n",
        "import glob\n",
        "import scipy\n",
        "import numpy as np\n",
        "from matplotlib import pyplot as plt\n",
        "import skimage.io as io\n",
        "from skimage import util\n",
        "from skimage.filters import threshold_otsu\n",
        "from skimage.morphology import erosion, dilation \n",
        "\n",
        "from sklearn.model_selection import train_test_split\n",
        "from sklearn.svm import SVC\n",
        "from sklearn.metrics import classification_report,confusion_matrix,accuracy_score\n",
        "from sklearn.preprocessing import LabelEncoder\n",
        "from sklearn import svm #SupportVectorMachine\n",
        "from sklearn.ensemble import RandomForestClassifier\n",
        "\n",
        "from sklearn.linear_model import LogisticRegression\n",
        "from sklearn.datasets import make_multilabel_classification\n",
        "from sklearn.neighbors import KNeighborsClassifier\n",
        "from sklearn.ensemble import VotingClassifier, BaggingClassifier, AdaBoostClassifier\n",
        "from sklearn.tree import DecisionTreeClassifier\n",
        "\n",
        "from keras.models import Sequential\n",
        "from keras import layers\n",
        "from keras.layers import Conv2D, MaxPooling2D, Flatten, Dense, Dropout\n",
        "\n",
        "\n",
        "%matplotlib inline"
      ],
      "metadata": {
        "id": "bpjtEa2Th2bt"
      },
      "execution_count": 2,
      "outputs": []
    },
    {
      "cell_type": "markdown",
      "source": [
        "Reading and storing the labels"
      ],
      "metadata": {
        "id": "z5SE8tzUilj3"
      }
    },
    {
      "cell_type": "code",
      "source": [
        "import os\n",
        "\n",
        "folder_path = [\"/content/drive/MyDrive/samples1-200/\", \"/content/drive/MyDrive/samples201-400/\",\n",
        "               \"/content/drive/MyDrive/samples401-600/\",\"/content/drive/MyDrive/samples601-800/\",\n",
        "               \"/content/drive/MyDrive/samples801-1000/\"]\n",
        "\n",
        "\n",
        "image_characters = []\n",
        "for path in folder_path:\n",
        "  # Get a list of all files in the folder\n",
        "  files = os.listdir(path)\n",
        "\n",
        "  # Extract the file names without the extensions\n",
        "  labels = [os.path.splitext(file)[0] for file in files]\n",
        "\n",
        "  for names in labels:\n",
        "    string = names\n",
        "\n",
        "    # Convert the string to a list of characters\n",
        "    characters = list(string)\n",
        "\n",
        "    for character in characters:\n",
        "      image_characters.append(character)\n",
        "\n",
        "len(image_characters)"
      ],
      "metadata": {
        "colab": {
          "base_uri": "https://localhost:8080/"
        },
        "id": "wc_vpJ00h2Ts",
        "outputId": "edb94ea2-8137-4c73-ba5d-3c2877555f02"
      },
      "execution_count": 3,
      "outputs": [
        {
          "output_type": "execute_result",
          "data": {
            "text/plain": [
              "5000"
            ]
          },
          "metadata": {},
          "execution_count": 3
        }
      ]
    },
    {
      "cell_type": "markdown",
      "source": [
        "Calculating the number of each characters"
      ],
      "metadata": {
        "id": "FhLAsXzH4nfz"
      }
    },
    {
      "cell_type": "code",
      "source": [
        "char_counts = {}\n",
        "for char in image_characters:\n",
        "    if char in char_counts:\n",
        "        char_counts[char] += 1\n",
        "    else:\n",
        "        char_counts[char] = 1\n",
        "\n",
        "sorted_counts = sorted(char_counts.items(), key=lambda x: x[1], reverse=True)\n",
        "\n",
        "for char, count in sorted_counts:\n",
        "    print(\"Number of '{}' characters: {}\".format(char, count))"
      ],
      "metadata": {
        "colab": {
          "base_uri": "https://localhost:8080/"
        },
        "id": "Zo6VD04E4ky3",
        "outputId": "079903be-afb5-4f7a-e970-1bcecf34ff68"
      },
      "execution_count": 4,
      "outputs": [
        {
          "output_type": "stream",
          "name": "stdout",
          "text": [
            "Number of 'z' characters: 213\n",
            "Number of 'm' characters: 210\n",
            "Number of 's' characters: 210\n",
            "Number of 'l' characters: 205\n",
            "Number of 'x' characters: 205\n",
            "Number of 'j' characters: 204\n",
            "Number of 'y' characters: 204\n",
            "Number of 'a' characters: 202\n",
            "Number of 'n' characters: 199\n",
            "Number of 'c' characters: 197\n",
            "Number of 'f' characters: 196\n",
            "Number of 'e' characters: 194\n",
            "Number of 'b' characters: 193\n",
            "Number of 'o' characters: 190\n",
            "Number of 'u' characters: 190\n",
            "Number of 'p' characters: 189\n",
            "Number of 'd' characters: 189\n",
            "Number of 'w' characters: 186\n",
            "Number of 'q' characters: 185\n",
            "Number of 'k' characters: 184\n",
            "Number of 't' characters: 180\n",
            "Number of 'g' characters: 179\n",
            "Number of 'v' characters: 178\n",
            "Number of 'i' characters: 175\n",
            "Number of 'r' characters: 172\n",
            "Number of 'h' characters: 171\n"
          ]
        }
      ]
    },
    {
      "cell_type": "markdown",
      "source": [
        "Loading all the images from the drive"
      ],
      "metadata": {
        "id": "oBzNF2_Oio9E"
      }
    },
    {
      "cell_type": "code",
      "source": [
        "#Loading all the images in the list\n",
        "images = []\n",
        "for img in glob.glob(\"/content/drive/MyDrive/samples1-200/*.png\"):\n",
        "    n= io.imread(img)\n",
        "    images.append(n)\n",
        "\n",
        "for img in glob.glob(\"/content/drive/MyDrive/samples201-400/*.png\"):\n",
        "    n= io.imread(img)\n",
        "    images.append(n)\n",
        "\n",
        "for img in glob.glob(\"/content/drive/MyDrive/samples401-600/*.png\"):\n",
        "    n= io.imread(img)\n",
        "    images.append(n)\n",
        "\n",
        "for img in glob.glob(\"/content/drive/MyDrive/samples601-800/*.png\"):\n",
        "    n= io.imread(img)\n",
        "    images.append(n)\n",
        "\n",
        "for img in glob.glob(\"/content/drive/MyDrive/samples801-1000/*.png\"):\n",
        "    n= io.imread(img)\n",
        "    images.append(n)"
      ],
      "metadata": {
        "id": "u6jqu0k9h2Q0"
      },
      "execution_count": 5,
      "outputs": []
    },
    {
      "cell_type": "markdown",
      "source": [
        "Trying out different preprocessing methods"
      ],
      "metadata": {
        "id": "lN5pG_Svi7Eb"
      }
    },
    {
      "cell_type": "code",
      "source": [
        "#gray image to work with \n",
        "median = cv2.medianBlur(images[6],3)\n",
        "gray_image = cv2.cvtColor(median,cv2.COLOR_BGR2GRAY)\n",
        "\n",
        "#inverted = cv2.bitwise_not(gray_image)\n",
        "\n",
        "img = gray_image\n",
        "\n",
        "#Thresholding\n",
        "threshold = threshold_otsu(img) \n",
        "img_binary = img > threshold\n",
        "#Adaptive mean Thresholding\n",
        "#img_binary = cv2.adaptiveThreshold(gray_image, 255, cv2.ADAPTIVE_THRESH_MEAN_C, cv2.THRESH_BINARY, 11, 2)\n",
        "#Adaptive Gaussian Thresholding\n",
        "#img_binary = cv2.adaptiveThreshold(gray_image, 255, cv2.ADAPTIVE_THRESH_GAUSSIAN_C, cv2.THRESH_BINARY, 11, 2)\n",
        "\n",
        "#Dilation\n",
        "kernel = np.ones((2,2), np.uint8) #Remove circular noise\n",
        "img_dilated = dilation(img_binary, kernel)\n",
        "\n",
        "img_eroded = erosion(img_dilated) #To make it darker\n",
        "\n",
        "kernel = np.ones((5,1), np.uint8) #Remove horizontal noise\n",
        "img_dilated1 = dilation(img_eroded, kernel)\n",
        "\n",
        "\n",
        "titles4 = ['Original', 'dilation', 'Erosion', 'inverted'] \n",
        "images4 = [img, img_dilated, img_eroded,img_dilated1]\n",
        "# Plot the image to compare between the filters\n",
        "\n",
        "fig, axs = plt.subplots(2, 2, figsize=(10, 4)) \n",
        "fig.tight_layout(pad=2.0)\n",
        "\n",
        "for i in range(4):\n",
        "  plt.subplot(2, 2, i + 1), plt.imshow(images4[i], 'gray', aspect='auto') \n",
        "  plt.title(titles4[i])\n",
        "  plt.xticks([]), plt.yticks([])\n",
        "  \n",
        "plt.show()"
      ],
      "metadata": {
        "colab": {
          "base_uri": "https://localhost:8080/",
          "height": 374
        },
        "id": "G5ccFoeRi5y8",
        "outputId": "c686f72f-9cfe-4427-f44d-507e1c9da2fe"
      },
      "execution_count": 6,
      "outputs": [
        {
          "output_type": "display_data",
          "data": {
            "text/plain": [
              "<Figure size 1000x400 with 4 Axes>"
            ],
            "image/png": "[encoded data removed]"
          },
          "metadata": {}
        }
      ]
    },
    {
      "cell_type": "markdown",
      "source": [
        "Preprocessing all the images"
      ],
      "metadata": {
        "id": "nKrVAw7ajJp1"
      }
    },
    {
      "cell_type": "code",
      "source": [
        "pre_processed_images = []\n",
        "for i in range(len(images)):\n",
        "  img = images[i]\n",
        "  \n",
        "  gray_image = cv2.cvtColor(img, cv2.COLOR_BGR2GRAY)\n",
        "\n",
        "  #image contrast\n",
        "  clahe = cv2.createCLAHE(clipLimit=2.0,tileGridSize=(8,8))\n",
        "  enhanced_image = clahe.apply(gray_image)\n",
        "  \n",
        "  threshold = threshold_otsu(enhanced_image) \n",
        "  img_binary = enhanced_image > threshold\n",
        "\n",
        "  median = cv2.medianBlur(img, 3)\n",
        "  #gauss = cv2.GaussianBlur(images[6], (3, 3), 0)\n",
        "\n",
        "  #Dilation\n",
        "  kernel = np.ones((2,1), np.uint8) #Remove noise\n",
        "  img_dilated = dilation(img_binary, kernel)\n",
        "\n",
        "  kernel = np.ones((2,2), np.uint8)\n",
        "  img_eroded = erosion(img_dilated,kernel) #To make it darker\n",
        "\n",
        "  kernel = np.ones((5,2), np.uint8) #Remove horizontal noise\n",
        "  img_dilated1 = dilation(img_eroded, kernel)\n",
        "\n",
        "  kernel = np.ones((5,1), np.uint8)\n",
        "  img_eroded1 = erosion(img_dilated1,kernel) \n",
        "\n",
        "  pre_processed_images.append(img_eroded1)"
      ],
      "metadata": {
        "id": "_pnWgXUTjJAm"
      },
      "execution_count": 7,
      "outputs": []
    },
    {
      "cell_type": "markdown",
      "source": [
        "Splitting the image on the basis of width"
      ],
      "metadata": {
        "id": "VwVUW052jRX2"
      }
    },
    {
      "cell_type": "code",
      "source": [
        "splitted_images = []\n",
        "for i in range(len(pre_processed_images)):\n",
        "  img = pre_processed_images[i]\n",
        "  \n",
        "  character_width = 20\n",
        "\n",
        "    # Iterate over the width of the image to extract character images\n",
        "  for i in range(5):\n",
        "        # Calculate the starting and ending coordinates for each character\n",
        "      start_x = i * character_width\n",
        "      end_x = start_x + character_width\n",
        "\n",
        "        # Extract the character image\n",
        "      cropped_array = img[0:100, start_x:end_x]\n",
        "      #character_image = img.crop((start_x, 0, end_x, height))\n",
        "\n",
        "      splitted_images.append(cropped_array)\n",
        "\n",
        "print(len(splitted_images))"
      ],
      "metadata": {
        "colab": {
          "base_uri": "https://localhost:8080/"
        },
        "id": "PR32TcWSh2OO",
        "outputId": "a73fbe5b-1fc1-4487-e360-dc945470b437"
      },
      "execution_count": 8,
      "outputs": [
        {
          "output_type": "stream",
          "name": "stdout",
          "text": [
            "5000\n"
          ]
        }
      ]
    },
    {
      "cell_type": "markdown",
      "source": [
        "Now, after the pre-processing we have all 5000 images in splitted_images and all the other 5000 characters in image_characters"
      ],
      "metadata": {
        "id": "VbaRrC4Oj5i2"
      }
    },
    {
      "cell_type": "markdown",
      "source": [
        "# Training the model with 3 mentioned classifiers\n"
      ],
      "metadata": {
        "id": "gsHVOyJAqxXc"
      }
    },
    {
      "cell_type": "markdown",
      "source": [
        "Splitting the dataset into training and validation set from these images"
      ],
      "metadata": {
        "id": "gTAaK4VxrYas"
      }
    },
    {
      "cell_type": "code",
      "source": [
        "# Loading and storing the pre-processed images in the numpy array\n",
        "X = np.array(splitted_images)  \n",
        "y = np.array(image_characters)  \n",
        "\n",
        "# Split the data into training and test sets, where test set is the validation set\n",
        "X_train, X_test, y_train, y_test = train_test_split(X, y, test_size=0.2, random_state=45)\n",
        "\n",
        "# Reshaping the image data to be used further\n",
        "X_train = np.reshape(X_train, (X_train.shape[0], -1))\n",
        "X_test = np.reshape(X_test, (X_test.shape[0], -1))"
      ],
      "metadata": {
        "id": "yvGJMLBErYFV"
      },
      "execution_count": 9,
      "outputs": []
    },
    {
      "cell_type": "markdown",
      "source": [
        "Logistic Regression"
      ],
      "metadata": {
        "id": "M0w0UrNcrRrc"
      }
    },
    {
      "cell_type": "code",
      "source": [
        "# initialize the model\n",
        "classifier = LogisticRegression()\n",
        "logistic_regression = LogisticRegression(max_iter=2000) #Increasing iterations is not increasing the accuracy\n",
        "\n",
        "# fit the model\n",
        "logistic_regression.fit(X_train, y_train)\n",
        "\n",
        "# Make predictions on the test set\n",
        "y_pred = logistic_regression.predict(X_test)\n",
        "\n",
        "# Evaluate the model\n",
        "accuracy = accuracy_score(y_test, y_pred)\n",
        "print(\"Accuracy: {:.2f}%\".format(accuracy*100))"
      ],
      "metadata": {
        "id": "-hjf1gRDrRHx",
        "colab": {
          "base_uri": "https://localhost:8080/"
        },
        "outputId": "e8719ae0-0e7a-497a-de13-89e19946b1e0"
      },
      "execution_count": 10,
      "outputs": [
        {
          "output_type": "stream",
          "name": "stdout",
          "text": [
            "Accuracy: 62.50%\n"
          ]
        },
        {
          "output_type": "stream",
          "name": "stderr",
          "text": [
            "/usr/local/lib/python3.10/dist-packages/sklearn/linear_model/_logistic.py:458: ConvergenceWarning: lbfgs failed to converge (status=1):\n",
            "STOP: TOTAL NO. of ITERATIONS REACHED LIMIT.\n",
            "\n",
            "Increase the number of iterations (max_iter) or scale the data as shown in:\n",
            "    https://scikit-learn.org/stable/modules/preprocessing.html\n",
            "Please also refer to the documentation for alternative solver options:\n",
            "    https://scikit-learn.org/stable/modules/linear_model.html#logistic-regression\n",
            "  n_iter_i = _check_optimize_result(\n"
          ]
        }
      ]
    },
    {
      "cell_type": "markdown",
      "source": [
        "Support Vector Machine"
      ],
      "metadata": {
        "id": "iKvCI0lGrSpI"
      }
    },
    {
      "cell_type": "code",
      "source": [
        "#SVM Classifier\n",
        "svm_classifier = svm.SVC(gamma=0.01, C=100) \n",
        "\n",
        "# Train the classifier\n",
        "svm_classifier.fit(X_train, y_train)\n",
        "\n",
        "# Make predictions on the test set\n",
        "y_pred = svm_classifier.predict(X_test)\n",
        "\n",
        "#Evaluate the model\n",
        "accuracy = accuracy_score(y_test, y_pred)\n",
        "print(\"Accuracy: {:.2f}%\".format(accuracy*100))"
      ],
      "metadata": {
        "colab": {
          "base_uri": "https://localhost:8080/"
        },
        "id": "AL5u1qJYry5O",
        "outputId": "13b70ad7-c392-48e2-a022-692c61eb371b"
      },
      "execution_count": 11,
      "outputs": [
        {
          "output_type": "stream",
          "name": "stdout",
          "text": [
            "Accuracy: 83.00%\n"
          ]
        }
      ]
    },
    {
      "cell_type": "markdown",
      "source": [
        "Random Forest"
      ],
      "metadata": {
        "id": "oR155zdPrzeM"
      }
    },
    {
      "cell_type": "code",
      "source": [
        "# Create a Random Forest classifier\n",
        "rf_classifier = RandomForestClassifier(n_estimators=200)\n",
        "\n",
        "# Train the classifier\n",
        "rf_classifier.fit(X_train, y_train)\n",
        "\n",
        "# Make predictions on the test set\n",
        "y_pred = rf_classifier.predict(X_test)\n",
        "\n",
        "# Evaluate the model\n",
        "accuracy = accuracy_score(y_test, y_pred)\n",
        "print(\"Accuracy: {:.2f}%\".format(accuracy*100))"
      ],
      "metadata": {
        "colab": {
          "base_uri": "https://localhost:8080/"
        },
        "id": "1_FdIS0grz7C",
        "outputId": "fa4293e1-9834-4291-911a-14708f7bab10"
      },
      "execution_count": 12,
      "outputs": [
        {
          "output_type": "stream",
          "name": "stdout",
          "text": [
            "Accuracy: 82.40%\n"
          ]
        }
      ]
    },
    {
      "cell_type": "markdown",
      "source": [
        "#Question 1"
      ],
      "metadata": {
        "id": "_EFqtlZEmB1U"
      }
    },
    {
      "cell_type": "markdown",
      "source": [
        "The **SVM** classifier yielded the best accuracy on the validation set, with an accuracy of 83%. <br> <br>\n",
        "Accuracy is a commonly used metric, but it may not be the best choice for all scenarios. \n",
        "<br> Classification Accuracy is what we usually mean, when we use the term accuracy. It is the ratio of the number of correct predictions to the total number of input samples.It works well only if there are an equal number of samples belonging to each class.<br> Accuracy = No of correct predictions ÷ Total no of predictions made <br> <br>\n",
        "\n",
        "Other metrics like precision, recall, and F1 score can provide a more comprehensive evaluation. Precision focuses on minimizing false positives, recall emphasizes minimizing false negatives, and F1 score balances both precision and recall. So, it's important to consider these metrics alongside accuracy for a deeper understanding of algorithm performance.\n"
      ],
      "metadata": {
        "id": "IRgWuyLcmD3S"
      }
    },
    {
      "cell_type": "markdown",
      "source": [
        "# **Question 2** <br>\n",
        "As from the above three, the best classifier we got is SVM. The hyperparameters which can be tweaked in it are the values of C (regularization parameter), Kernel and gamma (kernel Co-effecient).<br> <br>\n",
        "Initially the accuracy was 75% but after running the below code we got the best accuracy as 83%. The respective parameters we got was C = 100 and gamma = 0.01, the higher value of C seems to work as it is more sensitive to individual data points and less tolerant of misclassifications. which can also lead to overfitting in some cases. A relatively smaller value of gamma indicates that the decision boundary will be smoother and it has a larger radius of influence. The kernel used yielding the best result is rbf.<br> <br>\n",
        "As, the provided images has a lot of noise, the above parameters ensures a decision boundary that aims to closely fit the training data while still being relatively robust to noise or small variations."
      ],
      "metadata": {
        "id": "I3-i-2h5mNdF"
      }
    },
    {
      "cell_type": "code",
      "source": [
        "C = [0.1, 1, 10, 100] #Increasing value of C increases accuracy\n",
        "gamma =  [0.001, 0.01, 0.1, 1] #Gamma =0.01 gives best accuracy\n",
        "\n",
        "#Checked for different parameters to find the Best Parameter\n",
        "for a in C:\n",
        "  for b in gamma:\n",
        "    clf = svm.SVC(gamma=b, C=a)\n",
        "    #fitting the classifier :\n",
        "    clf.fit(X_train, y_train)\n",
        "    y_pred = clf.predict(X_test)\n",
        "\n",
        "    #Evaluate the model\n",
        "    accuracy = accuracy_score(y_test, y_pred)\n",
        "    print(accuracy)"
      ],
      "metadata": {
        "colab": {
          "base_uri": "https://localhost:8080/"
        },
        "id": "8ImA2ZPSsbkO",
        "outputId": "7d5295c6-beeb-47fb-c377-09389e30c9a0"
      },
      "execution_count": 13,
      "outputs": [
        {
          "output_type": "stream",
          "name": "stdout",
          "text": [
            "0.244\n",
            "0.109\n",
            "0.039\n",
            "0.039\n",
            "0.683\n",
            "0.813\n",
            "0.039\n",
            "0.039\n",
            "0.76\n",
            "0.83\n",
            "0.04\n",
            "0.039\n",
            "0.746\n",
            "0.83\n",
            "0.04\n",
            "0.039\n"
          ]
        }
      ]
    },
    {
      "cell_type": "markdown",
      "source": [
        "# Question 3"
      ],
      "metadata": {
        "id": "3QGOiGcHyg9Z"
      }
    },
    {
      "cell_type": "markdown",
      "source": [
        "Precision = True Positives / (True Positives + False Positives) <br>\n",
        "Recall = True Positives / (True Positives + False Negatives) <br>\n",
        "F1 Score = 2 * (Precision * Recall) / (Precision + Recall)\n",
        "\n"
      ],
      "metadata": {
        "id": "KPs5-_g_mOj8"
      }
    },
    {
      "cell_type": "markdown",
      "source": [
        "LR "
      ],
      "metadata": {
        "id": "jLucR1cB1b5Y"
      }
    },
    {
      "cell_type": "code",
      "source": [
        "# Make predictions on the test set\n",
        "y_pred = logistic_regression.predict(X_test)\n",
        "\n",
        "# Evaluate the model\n",
        "report = classification_report(y_test, y_pred)\n",
        "print(report)"
      ],
      "metadata": {
        "id": "eX6JRRcj1eSt",
        "colab": {
          "base_uri": "https://localhost:8080/"
        },
        "outputId": "1284d395-3a52-426a-ac99-29c5bcbbfc5a"
      },
      "execution_count": 14,
      "outputs": [
        {
          "output_type": "stream",
          "name": "stdout",
          "text": [
            "              precision    recall  f1-score   support\n",
            "\n",
            "           a       0.72      0.72      0.72        36\n",
            "           b       0.61      0.75      0.67        36\n",
            "           c       0.69      0.69      0.69        39\n",
            "           d       0.66      0.69      0.68        36\n",
            "           e       0.60      0.62      0.61        34\n",
            "           f       0.49      0.68      0.57        28\n",
            "           g       0.80      0.63      0.71        38\n",
            "           h       0.67      0.62      0.65        32\n",
            "           i       0.63      0.63      0.63        43\n",
            "           j       0.61      0.66      0.64        41\n",
            "           k       0.66      0.72      0.69        43\n",
            "           l       0.51      0.40      0.45        52\n",
            "           m       0.42      0.57      0.48        37\n",
            "           n       0.69      0.45      0.54        49\n",
            "           o       0.73      0.61      0.67        44\n",
            "           p       0.53      0.71      0.61        34\n",
            "           q       0.79      0.68      0.73        44\n",
            "           r       0.68      0.84      0.75        32\n",
            "           s       0.61      0.57      0.59        40\n",
            "           t       0.64      0.62      0.63        37\n",
            "           u       0.74      0.74      0.74        46\n",
            "           v       0.43      0.48      0.45        25\n",
            "           w       0.76      0.62      0.68        40\n",
            "           x       0.57      0.48      0.52        44\n",
            "           y       0.58      0.61      0.59        31\n",
            "           z       0.54      0.56      0.55        39\n",
            "\n",
            "    accuracy                           0.62      1000\n",
            "   macro avg       0.63      0.63      0.62      1000\n",
            "weighted avg       0.63      0.62      0.62      1000\n",
            "\n"
          ]
        }
      ]
    },
    {
      "cell_type": "markdown",
      "source": [
        "SVM"
      ],
      "metadata": {
        "id": "tsg_nTlT1e4h"
      }
    },
    {
      "cell_type": "code",
      "source": [
        "# Make predictions on the test set\n",
        "y_pred = svm_classifier.predict(X_test)\n",
        "\n",
        "#Evaluate the model\n",
        "report = classification_report(y_test, y_pred)\n",
        "print(report)"
      ],
      "metadata": {
        "colab": {
          "base_uri": "https://localhost:8080/"
        },
        "id": "X2MQbbf91fjP",
        "outputId": "96b673fb-35b1-419f-ea28-82971a515b12"
      },
      "execution_count": 15,
      "outputs": [
        {
          "output_type": "stream",
          "name": "stdout",
          "text": [
            "              precision    recall  f1-score   support\n",
            "\n",
            "           a       0.82      0.89      0.85        36\n",
            "           b       0.82      0.89      0.85        36\n",
            "           c       0.92      0.85      0.88        39\n",
            "           d       0.81      0.81      0.81        36\n",
            "           e       0.90      0.79      0.84        34\n",
            "           f       0.66      0.89      0.76        28\n",
            "           g       0.91      0.79      0.85        38\n",
            "           h       0.84      0.81      0.83        32\n",
            "           i       0.68      0.84      0.75        43\n",
            "           j       0.73      0.93      0.82        41\n",
            "           k       0.91      0.91      0.91        43\n",
            "           l       0.76      0.81      0.79        52\n",
            "           m       0.82      0.86      0.84        37\n",
            "           n       0.95      0.76      0.84        49\n",
            "           o       0.94      0.73      0.82        44\n",
            "           p       0.75      0.88      0.81        34\n",
            "           q       0.97      0.77      0.86        44\n",
            "           r       0.74      0.97      0.84        32\n",
            "           s       1.00      0.88      0.93        40\n",
            "           t       0.94      0.84      0.89        37\n",
            "           u       0.82      0.87      0.84        46\n",
            "           v       0.70      0.76      0.73        25\n",
            "           w       0.89      0.78      0.83        40\n",
            "           x       0.89      0.77      0.83        44\n",
            "           y       0.69      0.81      0.75        31\n",
            "           z       0.91      0.77      0.83        39\n",
            "\n",
            "    accuracy                           0.83      1000\n",
            "   macro avg       0.84      0.83      0.83      1000\n",
            "weighted avg       0.84      0.83      0.83      1000\n",
            "\n"
          ]
        }
      ]
    },
    {
      "cell_type": "markdown",
      "source": [
        "Random Forrest"
      ],
      "metadata": {
        "id": "5nsfkxyR1gEk"
      }
    },
    {
      "cell_type": "code",
      "source": [
        "# Make predictions on the test set\n",
        "y_pred = rf_classifier.predict(X_test)\n",
        "\n",
        "#Evaluate the model\n",
        "report = classification_report(y_test, y_pred)\n",
        "print(report)"
      ],
      "metadata": {
        "colab": {
          "base_uri": "https://localhost:8080/"
        },
        "id": "ohuU779L1ge5",
        "outputId": "f7b1587b-ea2c-461e-951a-b5ad2c0cdcf8"
      },
      "execution_count": 16,
      "outputs": [
        {
          "output_type": "stream",
          "name": "stdout",
          "text": [
            "              precision    recall  f1-score   support\n",
            "\n",
            "           a       0.82      0.89      0.85        36\n",
            "           b       0.70      0.89      0.78        36\n",
            "           c       0.81      0.90      0.85        39\n",
            "           d       0.87      0.75      0.81        36\n",
            "           e       0.90      0.82      0.86        34\n",
            "           f       0.69      0.89      0.78        28\n",
            "           g       0.97      0.84      0.90        38\n",
            "           h       0.85      0.72      0.78        32\n",
            "           i       0.67      0.81      0.74        43\n",
            "           j       0.63      0.98      0.77        41\n",
            "           k       0.85      0.91      0.88        43\n",
            "           l       0.79      0.73      0.76        52\n",
            "           m       0.94      0.86      0.90        37\n",
            "           n       0.94      0.69      0.80        49\n",
            "           o       0.80      0.82      0.81        44\n",
            "           p       0.78      0.85      0.82        34\n",
            "           q       0.92      0.80      0.85        44\n",
            "           r       0.76      0.97      0.85        32\n",
            "           s       1.00      0.88      0.93        40\n",
            "           t       0.88      0.78      0.83        37\n",
            "           u       0.85      0.85      0.85        46\n",
            "           v       0.75      0.72      0.73        25\n",
            "           w       0.85      0.85      0.85        40\n",
            "           x       0.89      0.73      0.80        44\n",
            "           y       0.86      0.81      0.83        31\n",
            "           z       0.94      0.74      0.83        39\n",
            "\n",
            "    accuracy                           0.82      1000\n",
            "   macro avg       0.84      0.83      0.82      1000\n",
            "weighted avg       0.84      0.82      0.83      1000\n",
            "\n"
          ]
        }
      ]
    },
    {
      "cell_type": "markdown",
      "source": [
        "# Question 4"
      ],
      "metadata": {
        "id": "k8nyq_IjyhqO"
      }
    },
    {
      "cell_type": "markdown",
      "source": [
        "## A. <br>\n",
        "Confusion Matrix as the name suggests gives us a matrix as output and describes the complete performance of the model.\n",
        "<br> There are 4 important terms :\n",
        "*   True Positives : The cases in which we predicted YES and the actual output was also YES.\n",
        "*   True Negatives : The cases in which we predicted NO and the actual output was NO.\n",
        "*   False Positives : The cases in which we predicted YES and the actual output was NO.\n",
        "*   False Negatives : The cases in which we predicted NO and the actual output was YES.\n",
        "<br>Accuracy for the matrix can be calculated by taking average of the values lying across the “main diagonal” i.e \n",
        "<p>\n",
        "  Accuracy = <span>&#40;True postive + True negative &#41;</span> / Total sample\n",
        "</p>\n",
        "<br>\n",
        "The confusion matrix using the best classifier is given below: \n",
        "\n",
        "\n"
      ],
      "metadata": {
        "id": "atN8sQxPmPgW"
      }
    },
    {
      "cell_type": "code",
      "source": [
        "y_pred = svm_classifier.predict(X_test)\n",
        "\n",
        "confusion_matrix = confusion_matrix(y_test, y_pred)\n",
        "print(confusion_matrix)"
      ],
      "metadata": {
        "colab": {
          "base_uri": "https://localhost:8080/"
        },
        "id": "8t5nSm6Qzzv3",
        "outputId": "2c7c6a2f-4c2c-4aed-fb48-4a2f4c72407c"
      },
      "execution_count": 17,
      "outputs": [
        {
          "output_type": "stream",
          "name": "stdout",
          "text": [
            "[[32  0  0  2  0  0  0  0  0  0  0  0  2  0  0  0  0  0  0  0  0  0  0  0\n",
            "   0  0]\n",
            " [ 0 32  0  0  0  0  0  1  1  1  0  0  0  0  0  0  0  0  0  0  1  0  0  0\n",
            "   0  0]\n",
            " [ 0  0 33  0  0  0  0  0  1  0  0  0  0  0  0  0  0  4  0  1  0  0  0  0\n",
            "   0  0]\n",
            " [ 0  3  0 29  1  0  1  1  0  0  0  0  0  0  0  0  0  0  0  0  0  1  0  0\n",
            "   0  0]\n",
            " [ 3  0  0  0 27  2  0  0  1  0  0  0  0  1  0  0  0  0  0  0  0  0  0  0\n",
            "   0  0]\n",
            " [ 0  0  0  0  0 25  0  1  0  0  0  1  0  0  0  0  0  0  0  0  0  0  0  0\n",
            "   1  0]\n",
            " [ 0  0  0  1  0  0 30  0  1  0  0  1  0  0  0  2  0  0  0  0  0  1  0  1\n",
            "   1  0]\n",
            " [ 0  2  0  1  0  2  0 26  1  0  0  0  0  0  0  0  0  0  0  0  0  0  0  0\n",
            "   0  0]\n",
            " [ 0  0  0  0  0  1  0  0 36  0  2  3  0  0  0  0  0  0  0  0  0  1  0  0\n",
            "   0  0]\n",
            " [ 0  0  0  0  0  0  0  1  0 38  0  0  0  0  0  0  0  0  0  0  1  0  0  0\n",
            "   1  0]\n",
            " [ 0  0  0  0  0  0  0  0  2  0 39  1  0  0  0  0  0  0  0  0  0  1  0  0\n",
            "   0  0]\n",
            " [ 0  0  0  0  0  0  0  0  5  3  0 42  0  0  0  0  0  0  0  0  0  0  0  1\n",
            "   1  0]\n",
            " [ 0  0  0  0  0  0  0  0  0  0  0  0 32  0  1  1  0  0  0  0  0  0  3  0\n",
            "   0  0]\n",
            " [ 2  0  0  0  0  0  0  0  0  1  1  0  1 37  1  0  0  3  0  1  1  0  0  0\n",
            "   0  1]\n",
            " [ 1  0  1  0  1  1  0  0  0  0  0  1  1  1 32  0  0  1  0  0  4  0  0  0\n",
            "   0  0]\n",
            " [ 0  0  0  0  0  1  1  0  0  0  0  1  0  0  0 30  1  0  0  0  0  0  0  0\n",
            "   0  0]\n",
            " [ 0  0  0  0  0  0  1  0  0  0  0  2  0  0  0  5 34  1  0  0  1  0  0  0\n",
            "   0  0]\n",
            " [ 0  0  0  0  0  1  0  0  0  0  0  0  0  0  0  0  0 31  0  0  0  0  0  0\n",
            "   0  0]\n",
            " [ 0  0  0  0  0  0  0  0  0  0  0  0  0  0  0  0  0  0 35  0  1  0  0  0\n",
            "   2  2]\n",
            " [ 0  0  1  0  0  2  0  0  3  0  0  0  0  0  0  0  0  0  0 31  0  0  0  0\n",
            "   0  0]\n",
            " [ 0  1  1  1  0  0  0  0  0  1  0  0  0  0  0  0  0  0  0  0 40  2  0  0\n",
            "   0  0]\n",
            " [ 0  1  0  0  0  0  0  0  0  0  0  0  0  0  0  0  0  1  0  0  0 19  0  0\n",
            "   4  0]\n",
            " [ 1  0  0  1  0  0  0  0  0  1  0  0  2  0  0  1  0  0  0  0  0  1 31  2\n",
            "   0  0]\n",
            " [ 0  0  0  1  0  3  0  1  1  1  0  0  0  0  0  0  0  1  0  0  0  0  1 34\n",
            "   1  0]\n",
            " [ 0  0  0  0  0  0  0  0  1  4  0  0  0  0  0  1  0  0  0  0  0  0  0  0\n",
            "  25  0]\n",
            " [ 0  0  0  0  1  0  0  0  0  2  1  3  1  0  0  0  0  0  0  0  0  1  0  0\n",
            "   0 30]]\n"
          ]
        }
      ]
    },
    {
      "cell_type": "markdown",
      "source": [
        "## B. <br>\n",
        " In different classifiers there are different characters with low accuracy. \n",
        "\n",
        "*   Logistic regression = V (low precision and recall)\n",
        "*   SVM = V (low f1-score), F (low precision)\n",
        "*   Random forest = F (low precision), N (low recall)"
      ],
      "metadata": {
        "id": "1BsejE1ivjgp"
      }
    },
    {
      "cell_type": "markdown",
      "source": [
        "## C. <br>\n",
        "For v, the number of dataset is less as compared to others.<br>\n",
        "One of the main reasons for misclassification is visual similarity with other characters or their complex shape. \n",
        "\n",
        "*   Character like \"v\" can be visually similar to other character like \"u\" \n",
        "*   Characters like \"f\" can be visually similar to other characters like \"y\" or \"r\" \n",
        "*   Characters like \"n\" can be visually similar to other characters like \"h\" or \"m\" \n",
        "\n",
        "\n",
        "\n",
        "\n",
        "\n",
        "\n"
      ],
      "metadata": {
        "id": "sYV_8L1Q0Ie7"
      }
    },
    {
      "cell_type": "markdown",
      "source": [
        "# **Question 5**\n",
        "* Classifier = CNN, K-nearest neighbour, Ensemble Classifier                                     \n",
        "We applied KNN since there are 26 boundaries and KNN performs well with multiple non-linear boundaries. \n",
        "* Filters = median filter, gaussian filter, box filter                  \n",
        "Median filter works the best of all for OCR model. we almost got 2% increase in accuracy by just applying median filter\n",
        "* Thresholding, adaptive mean threshold, adaptive gaussian threshold - There was no change in accuarcy \n",
        "* Contrast enhancement - Also 2% increase in accuracy by adjusting the contrast and brightness of the image \n",
        "* Data augmentation - Couldn't increase accuracy by rotating or shifting images\n",
        "* We also tried bagging and boosting in the ensemble model to inc accuracy, rather it dec the accuracy by 1.1%"
      ],
      "metadata": {
        "id": "ywQ7nXp9mQQz"
      }
    },
    {
      "cell_type": "markdown",
      "source": [
        "## CNN <br>\n",
        "To increase accuracy we tried CNN, which gave us the best accuracy out of all the models, going up till 88.8%"
      ],
      "metadata": {
        "id": "P0c8j62Gx0D8"
      }
    },
    {
      "cell_type": "code",
      "source": [
        "# Convert the labels to numerical representation using LabelEncoder\n",
        "label_encoder = LabelEncoder()\n",
        "encoded_labels = label_encoder.fit_transform(image_characters)\n",
        "\n",
        "#Splitted_images for CNN as the input size is different\n",
        "splitted_images_cnn = []\n",
        "for i in range(len(pre_processed_images)):\n",
        "  img = pre_processed_images[i]\n",
        "  \n",
        "  character_width = 20\n",
        "\n",
        "    # Iterate over the width of the image to extract character images\n",
        "  for i in range(5):\n",
        "        # Calculate the starting and ending coordinates for each character\n",
        "      start_x = i * character_width\n",
        "      end_x = start_x + character_width\n",
        "\n",
        "        # Extract the character image\n",
        "      cropped_array = img[0:100, start_x:end_x]\n",
        "      #padded_image = np.pad(cropped_array, ((0, 0), (40, 40)), constant_values=255)\n",
        "      resized_images = cropped_array.reshape(-1, 100, 20, 1)\n",
        "      #normalized_images = resized_images/ 255.0\n",
        "\n",
        "      splitted_images_cnn.append(resized_images)\n",
        "\n",
        "#Concaneting to give correct dimensions\n",
        "images_da = np.concatenate(splitted_images_cnn, axis=0)\n",
        "\n",
        "# Split the data into training, validation and testing sets\n",
        "\n",
        "X_train, X_test, y_train, y_test = train_test_split(images_da, encoded_labels, test_size=0.3, random_state=42)\n",
        "X_test, X_val, y_test, y_val = train_test_split(X_test, y_test, test_size=0.5, random_state=42)\n",
        "\n",
        "# Create the CNN model\n",
        "model = Sequential()\n",
        "model.add(Conv2D(32, kernel_size=(5, 5), activation='relu', input_shape=(100,20,1)))\n",
        "model.add(MaxPooling2D(pool_size=(2, 2)))\n",
        "model.add(Conv2D(64, kernel_size=(5, 5), activation='relu')) #Higher value of kernel size extracts overall feature \n",
        "model.add(MaxPooling2D(pool_size=(2, 2)))\n",
        "model.add(Flatten())\n",
        "model.add(Dense(128, activation='relu'))\n",
        "model.add(Dropout(0.50)) #Avoids overfitting\n",
        "model.add(Dense(26, activation='softmax'))\n",
        "\n",
        "# Compile the model with appropriate optimizer and loss function\n",
        "model.compile(optimizer='adam', loss='sparse_categorical_crossentropy', metrics=['accuracy'])\n",
        "\n",
        "# Train the model\n",
        "model.fit(X_train, y_train, batch_size=32, epochs=40, validation_data=(X_val, y_val))"
      ],
      "metadata": {
        "id": "ADJ0d4oeyAgB",
        "colab": {
          "base_uri": "https://localhost:8080/"
        },
        "outputId": "642502a3-eab1-497d-d1a4-3130e3166c5d"
      },
      "execution_count": 18,
      "outputs": [
        {
          "output_type": "stream",
          "name": "stdout",
          "text": [
            "Epoch 1/40\n",
            "110/110 [==============================] - 12s 95ms/step - loss: 2.7369 - accuracy: 0.2046 - val_loss: 1.6768 - val_accuracy: 0.5427\n",
            "Epoch 2/40\n",
            "110/110 [==============================] - 12s 111ms/step - loss: 1.5215 - accuracy: 0.5291 - val_loss: 0.9991 - val_accuracy: 0.7040\n",
            "Epoch 3/40\n",
            "110/110 [==============================] - 12s 111ms/step - loss: 1.1048 - accuracy: 0.6614 - val_loss: 0.7941 - val_accuracy: 0.7573\n",
            "Epoch 4/40\n",
            "110/110 [==============================] - 12s 113ms/step - loss: 0.8702 - accuracy: 0.7289 - val_loss: 0.7025 - val_accuracy: 0.7880\n",
            "Epoch 5/40\n",
            "110/110 [==============================] - 12s 112ms/step - loss: 0.7213 - accuracy: 0.7786 - val_loss: 0.6347 - val_accuracy: 0.8013\n",
            "Epoch 6/40\n",
            "110/110 [==============================] - 10s 92ms/step - loss: 0.6152 - accuracy: 0.8089 - val_loss: 0.6224 - val_accuracy: 0.8053\n",
            "Epoch 7/40\n",
            "110/110 [==============================] - 12s 110ms/step - loss: 0.5380 - accuracy: 0.8331 - val_loss: 0.5599 - val_accuracy: 0.8267\n",
            "Epoch 8/40\n",
            "110/110 [==============================] - 12s 111ms/step - loss: 0.4899 - accuracy: 0.8483 - val_loss: 0.5330 - val_accuracy: 0.8373\n",
            "Epoch 9/40\n",
            "110/110 [==============================] - 14s 129ms/step - loss: 0.4194 - accuracy: 0.8683 - val_loss: 0.5016 - val_accuracy: 0.8587\n",
            "Epoch 10/40\n",
            "110/110 [==============================] - 12s 110ms/step - loss: 0.3774 - accuracy: 0.8826 - val_loss: 0.5459 - val_accuracy: 0.8440\n",
            "Epoch 11/40\n",
            "110/110 [==============================] - 11s 97ms/step - loss: 0.3383 - accuracy: 0.8914 - val_loss: 0.5233 - val_accuracy: 0.8493\n",
            "Epoch 12/40\n",
            "110/110 [==============================] - 11s 104ms/step - loss: 0.3174 - accuracy: 0.8957 - val_loss: 0.5258 - val_accuracy: 0.8413\n",
            "Epoch 13/40\n",
            "110/110 [==============================] - 12s 111ms/step - loss: 0.2759 - accuracy: 0.9031 - val_loss: 0.5551 - val_accuracy: 0.8533\n",
            "Epoch 14/40\n",
            "110/110 [==============================] - 12s 111ms/step - loss: 0.2514 - accuracy: 0.9120 - val_loss: 0.5186 - val_accuracy: 0.8560\n",
            "Epoch 15/40\n",
            "110/110 [==============================] - 12s 110ms/step - loss: 0.2319 - accuracy: 0.9231 - val_loss: 0.5249 - val_accuracy: 0.8600\n",
            "Epoch 16/40\n",
            "110/110 [==============================] - 11s 97ms/step - loss: 0.2106 - accuracy: 0.9314 - val_loss: 0.5463 - val_accuracy: 0.8627\n",
            "Epoch 17/40\n",
            "110/110 [==============================] - 11s 104ms/step - loss: 0.2003 - accuracy: 0.9280 - val_loss: 0.5680 - val_accuracy: 0.8587\n",
            "Epoch 18/40\n",
            "110/110 [==============================] - 12s 111ms/step - loss: 0.1708 - accuracy: 0.9451 - val_loss: 0.5854 - val_accuracy: 0.8707\n",
            "Epoch 19/40\n",
            "110/110 [==============================] - 12s 112ms/step - loss: 0.1872 - accuracy: 0.9377 - val_loss: 0.5905 - val_accuracy: 0.8453\n",
            "Epoch 20/40\n",
            "110/110 [==============================] - 12s 110ms/step - loss: 0.1709 - accuracy: 0.9431 - val_loss: 0.6151 - val_accuracy: 0.8493\n",
            "Epoch 21/40\n",
            "110/110 [==============================] - 11s 98ms/step - loss: 0.1694 - accuracy: 0.9451 - val_loss: 0.5893 - val_accuracy: 0.8600\n",
            "Epoch 22/40\n",
            "110/110 [==============================] - 11s 103ms/step - loss: 0.1367 - accuracy: 0.9551 - val_loss: 0.5229 - val_accuracy: 0.8613\n",
            "Epoch 23/40\n",
            "110/110 [==============================] - 12s 111ms/step - loss: 0.1582 - accuracy: 0.9466 - val_loss: 0.6155 - val_accuracy: 0.8547\n",
            "Epoch 24/40\n",
            "110/110 [==============================] - 12s 109ms/step - loss: 0.1282 - accuracy: 0.9551 - val_loss: 0.6610 - val_accuracy: 0.8560\n",
            "Epoch 25/40\n",
            "110/110 [==============================] - 13s 114ms/step - loss: 0.1201 - accuracy: 0.9603 - val_loss: 0.6796 - val_accuracy: 0.8533\n",
            "Epoch 26/40\n",
            "110/110 [==============================] - 11s 99ms/step - loss: 0.1190 - accuracy: 0.9600 - val_loss: 0.6891 - val_accuracy: 0.8533\n",
            "Epoch 27/40\n",
            "110/110 [==============================] - 11s 103ms/step - loss: 0.1100 - accuracy: 0.9617 - val_loss: 0.6838 - val_accuracy: 0.8613\n",
            "Epoch 28/40\n",
            "110/110 [==============================] - 12s 111ms/step - loss: 0.1028 - accuracy: 0.9663 - val_loss: 0.6833 - val_accuracy: 0.8533\n",
            "Epoch 29/40\n",
            "110/110 [==============================] - 12s 111ms/step - loss: 0.1148 - accuracy: 0.9586 - val_loss: 0.7061 - val_accuracy: 0.8600\n",
            "Epoch 30/40\n",
            "110/110 [==============================] - 12s 110ms/step - loss: 0.1246 - accuracy: 0.9557 - val_loss: 0.6948 - val_accuracy: 0.8467\n",
            "Epoch 31/40\n",
            "110/110 [==============================] - 11s 97ms/step - loss: 0.1025 - accuracy: 0.9649 - val_loss: 0.7360 - val_accuracy: 0.8587\n",
            "Epoch 32/40\n",
            "110/110 [==============================] - 11s 102ms/step - loss: 0.0997 - accuracy: 0.9654 - val_loss: 0.7364 - val_accuracy: 0.8587\n",
            "Epoch 33/40\n",
            "110/110 [==============================] - 12s 111ms/step - loss: 0.0996 - accuracy: 0.9651 - val_loss: 0.7492 - val_accuracy: 0.8507\n",
            "Epoch 34/40\n",
            "110/110 [==============================] - 12s 110ms/step - loss: 0.1012 - accuracy: 0.9671 - val_loss: 0.7046 - val_accuracy: 0.8533\n",
            "Epoch 35/40\n",
            "110/110 [==============================] - 13s 115ms/step - loss: 0.0843 - accuracy: 0.9700 - val_loss: 0.7260 - val_accuracy: 0.8667\n",
            "Epoch 36/40\n",
            "110/110 [==============================] - 11s 100ms/step - loss: 0.0885 - accuracy: 0.9689 - val_loss: 0.6978 - val_accuracy: 0.8493\n",
            "Epoch 37/40\n",
            "110/110 [==============================] - 11s 100ms/step - loss: 0.0899 - accuracy: 0.9697 - val_loss: 0.7424 - val_accuracy: 0.8560\n",
            "Epoch 38/40\n",
            "110/110 [==============================] - 12s 111ms/step - loss: 0.0837 - accuracy: 0.9717 - val_loss: 0.7433 - val_accuracy: 0.8640\n",
            "Epoch 39/40\n",
            "110/110 [==============================] - 14s 126ms/step - loss: 0.0818 - accuracy: 0.9726 - val_loss: 0.7656 - val_accuracy: 0.8680\n",
            "Epoch 40/40\n",
            "110/110 [==============================] - 13s 113ms/step - loss: 0.0834 - accuracy: 0.9720 - val_loss: 0.8238 - val_accuracy: 0.8587\n"
          ]
        },
        {
          "output_type": "execute_result",
          "data": {
            "text/plain": [
              "<keras.callbacks.History at 0x7fb7ed9ef130>"
            ]
          },
          "metadata": {},
          "execution_count": 18
        }
      ]
    },
    {
      "cell_type": "markdown",
      "source": [
        "Accuracy for the CNN"
      ],
      "metadata": {
        "id": "blNyTTWhB5Ff"
      }
    },
    {
      "cell_type": "code",
      "source": [
        "# Use the trained model to predict labels for the test data\n",
        "y_pred = np.argmax(model.predict(X_test), axis=1)\n",
        "\n",
        "# Evaluate the model\n",
        "accuracy = accuracy_score(y_test, y_pred)\n",
        "print(\"Accuracy: {:.2f}%\".format(accuracy*100))"
      ],
      "metadata": {
        "id": "GOf73UHOB1KK",
        "colab": {
          "base_uri": "https://localhost:8080/"
        },
        "outputId": "0b38d1b6-209d-417e-bc45-377d7dbe4d59"
      },
      "execution_count": 19,
      "outputs": [
        {
          "output_type": "stream",
          "name": "stdout",
          "text": [
            "24/24 [==============================] - 1s 22ms/step\n",
            "Accuracy: 87.07%\n"
          ]
        }
      ]
    },
    {
      "cell_type": "markdown",
      "source": [],
      "metadata": {
        "id": "jNh8GVqoIZ2Q"
      }
    },
    {
      "cell_type": "markdown",
      "source": [
        "## Training the model with other classifiers"
      ],
      "metadata": {
        "id": "jfd2VGN4H4Iv"
      }
    },
    {
      "cell_type": "markdown",
      "source": [
        "Ensemble Classifier\n",
        "\n"
      ],
      "metadata": {
        "id": "PnF8r7fmIFRW"
      }
    },
    {
      "cell_type": "code",
      "source": [
        "# Loading and storing the pre-processed images in the numpy array\n",
        "X = np.array(splitted_images)  \n",
        "y = np.array(image_characters)  \n",
        "\n",
        "# Split the data into training and test sets, where test set is the validation set\n",
        "X_train, X_test, y_train, y_test = train_test_split(X, y, test_size=0.2, random_state=45)\n",
        "\n",
        "# Reshaping the image data to be used further\n",
        "X_train = np.reshape(X_train, (X_train.shape[0], -1))\n",
        "X_test = np.reshape(X_test, (X_test.shape[0], -1))\n",
        "\n",
        "# Initialize the base models\n",
        "logistic_regression = LogisticRegression(max_iter=500)\n",
        "decision_tree = DecisionTreeClassifier()\n",
        "random_forest = RandomForestClassifier()\n",
        "svm = SVC(probability=True)\n",
        "knn = KNeighborsClassifier()\n",
        "\n",
        "# Create the ensemble model\n",
        "ensemble_model = VotingClassifier(\n",
        "    estimators=[('lr', logistic_regression), ('dt', decision_tree), ('rf', random_forest), ('svm', svm), ('knn', knn)],\n",
        "    voting='hard'  # Use majority voting for classification\n",
        ")\n",
        "\n",
        "# Fit the ensemble model\n",
        "ensemble_model.fit(X_train, y_train)\n",
        "\n",
        "# Make predictions on the test set\n",
        "y_pred = ensemble_model.predict(X_test)\n",
        "\n",
        "# Evaluate the model\n",
        "accuracy = accuracy_score(y_test, y_pred)\n",
        "print(\"\\n\")\n",
        "print(\"Accuracy: {:.2f}%\".format(accuracy*100))"
      ],
      "metadata": {
        "id": "kWbJTxz5IFof",
        "colab": {
          "base_uri": "https://localhost:8080/"
        },
        "outputId": "795cb271-9fbf-43f7-bb47-4f4e91606b6d"
      },
      "execution_count": 20,
      "outputs": [
        {
          "output_type": "stream",
          "name": "stderr",
          "text": [
            "/usr/local/lib/python3.10/dist-packages/sklearn/linear_model/_logistic.py:458: ConvergenceWarning: lbfgs failed to converge (status=1):\n",
            "STOP: TOTAL NO. of ITERATIONS REACHED LIMIT.\n",
            "\n",
            "Increase the number of iterations (max_iter) or scale the data as shown in:\n",
            "    https://scikit-learn.org/stable/modules/preprocessing.html\n",
            "Please also refer to the documentation for alternative solver options:\n",
            "    https://scikit-learn.org/stable/modules/linear_model.html#logistic-regression\n",
            "  n_iter_i = _check_optimize_result(\n"
          ]
        },
        {
          "output_type": "stream",
          "name": "stdout",
          "text": [
            "\n",
            "\n",
            "Accuracy: 80.70%\n"
          ]
        }
      ]
    },
    {
      "cell_type": "markdown",
      "source": [
        "K-Nearest Neighbour"
      ],
      "metadata": {
        "id": "RnxvOhR4IF-I"
      }
    },
    {
      "cell_type": "code",
      "source": [
        "# Initialize the model\n",
        "knn = KNeighborsClassifier(n_neighbors=5)\n",
        "\n",
        "# Fit the model\n",
        "knn.fit(X_train, y_train)\n",
        "\n",
        "# Make predictions on the test set\n",
        "y_pred = knn.predict(X_test)\n",
        "\n",
        "# Evaluate the model\n",
        "accuracy = accuracy_score(y_test, y_pred)\n",
        "print(\"Accuracy: {:.2f}%\".format(accuracy*100))"
      ],
      "metadata": {
        "id": "GQgHm4QLIGVU",
        "colab": {
          "base_uri": "https://localhost:8080/"
        },
        "outputId": "f1d00b35-33ec-409c-f9d2-903d25cba2f5"
      },
      "execution_count": 22,
      "outputs": [
        {
          "output_type": "stream",
          "name": "stdout",
          "text": [
            "Accuracy: 74.30%\n"
          ]
        }
      ]
    },
    {
      "cell_type": "code",
      "source": [],
      "metadata": {
        "id": "eXvZe_3qIgEL"
      },
      "execution_count": 22,
      "outputs": []
    }
  ]
}